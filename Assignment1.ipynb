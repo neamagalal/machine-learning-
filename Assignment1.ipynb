{
 "cells": [
  {
   "cell_type": "code",
   "execution_count": 4,
   "metadata": {
    "id": "LxQLTlwlQ1mG",
    "tags": []
   },
   "outputs": [],
   "source": [
    "#Imports\n",
    "import matplotlib.pyplot as plt\n",
    "from mpl_toolkits.mplot3d import Axes3D\n",
    "from sklearn import svm, datasets\n",
    "from sklearn.decomposition import PCA\n",
    "import numpy as np\n",
    "import pandas as pd\n",
    "from sklearn.multiclass import OneVsRestClassifier\n",
    "from sklearn.svm import LinearSVC\n",
    "from sklearn.datasets import load_iris\n",
    "from sklearn.linear_model import LogisticRegression\n",
    "from sklearn.preprocessing import label_binarize\n",
    "from sklearn.multiclass import OneVsRestClassifier\n",
    "from sklearn.svm import SVC\n",
    "from sklearn.metrics import accuracy_score, f1_score, classification_report, confusion_matrix, ConfusionMatrixDisplay\n",
    "\n",
    "#function to plot data\n",
    "def plotData(features, labels, cls, class_names):\n",
    "  colors = ['r', 'b', 'g']\n",
    "  markers = ['o', '*', '+']\n",
    "  for class_index in range(len(cls)):\n",
    "   plt.scatter(features[labels == cls[class_index], 0], features[labels == cls[class_index], 1], c=colors[class_index], marker=markers[class_index], label=class_names[cls[class_index]])\n",
    "  Title = \"Iris Dataset with {n} classes\" .format(n=int(len(cls)))\n",
    "  plt.title(Title)\n",
    "  plt.xlabel('Petal Length (cm)' )\n",
    "  plt.ylabel('Petal width (cm)' )\n",
    "  plt.legend()\n",
    "\n",
    "#function to plot Regions    \n",
    "def plotRegions(model):\n",
    " ax = plt.gca()\n",
    " xlim = ax.get_xlim()\n",
    " ylim = ax.get_ylim()\n",
    " xx = np.linspace(xlim[ 0], xlim[1], 50)\n",
    " yy = np.linspace(ylim[ 0], ylim[1], 50)\n",
    " XX, YY = np.meshgrid(xx, yy)\n",
    " z = np.vstack([XX.ravel(), YY.ravel()]).T\n",
    " ZZ = model.decision_function(z) .reshape(XX.shape)\n",
    " ax.contourf(XX, YY, ZZ, colors=[ 'c','y'], levels=0, alpha=0.2)\n",
    "\n",
    "\n",
    "\n",
    "\n"
   ]
  },
  {
   "cell_type": "code",
   "execution_count": 5,
   "metadata": {
    "tags": []
   },
   "outputs": [
    {
     "name": "stdout",
     "output_type": "stream",
     "text": [
      "[[1.4 0.2]\n",
      " [1.4 0.2]\n",
      " [1.3 0.2]\n",
      " [1.5 0.2]\n",
      " [1.4 0.2]\n",
      " [1.7 0.4]\n",
      " [1.4 0.3]\n",
      " [1.5 0.2]\n",
      " [1.4 0.2]\n",
      " [1.5 0.1]\n",
      " [1.5 0.2]\n",
      " [1.6 0.2]\n",
      " [1.4 0.1]\n",
      " [1.1 0.1]\n",
      " [1.2 0.2]\n",
      " [1.5 0.4]\n",
      " [1.3 0.4]\n",
      " [1.4 0.3]\n",
      " [1.7 0.3]\n",
      " [1.5 0.3]\n",
      " [1.7 0.2]\n",
      " [1.5 0.4]\n",
      " [1.  0.2]\n",
      " [1.7 0.5]\n",
      " [1.9 0.2]\n",
      " [1.6 0.2]\n",
      " [1.6 0.4]\n",
      " [1.5 0.2]\n",
      " [1.4 0.2]\n",
      " [1.6 0.2]\n",
      " [1.6 0.2]\n",
      " [1.5 0.4]\n",
      " [1.5 0.1]\n",
      " [1.4 0.2]\n",
      " [1.5 0.2]\n",
      " [1.2 0.2]\n",
      " [1.3 0.2]\n",
      " [1.4 0.1]\n",
      " [1.3 0.2]\n",
      " [1.5 0.2]\n",
      " [1.3 0.3]\n",
      " [1.3 0.3]\n",
      " [1.3 0.2]\n",
      " [1.6 0.6]\n",
      " [1.9 0.4]\n",
      " [1.4 0.3]\n",
      " [1.6 0.2]\n",
      " [1.4 0.2]\n",
      " [1.5 0.2]\n",
      " [1.4 0.2]\n",
      " [4.7 1.4]\n",
      " [4.5 1.5]\n",
      " [4.9 1.5]\n",
      " [4.  1.3]\n",
      " [4.6 1.5]\n",
      " [4.5 1.3]\n",
      " [4.7 1.6]\n",
      " [3.3 1. ]\n",
      " [4.6 1.3]\n",
      " [3.9 1.4]\n",
      " [3.5 1. ]\n",
      " [4.2 1.5]\n",
      " [4.  1. ]\n",
      " [4.7 1.4]\n",
      " [3.6 1.3]\n",
      " [4.4 1.4]\n",
      " [4.5 1.5]\n",
      " [4.1 1. ]\n",
      " [4.5 1.5]\n",
      " [3.9 1.1]\n",
      " [4.8 1.8]\n",
      " [4.  1.3]\n",
      " [4.9 1.5]\n",
      " [4.7 1.2]\n",
      " [4.3 1.3]\n",
      " [4.4 1.4]\n",
      " [4.8 1.4]\n",
      " [5.  1.7]\n",
      " [4.5 1.5]\n",
      " [3.5 1. ]\n",
      " [3.8 1.1]\n",
      " [3.7 1. ]\n",
      " [3.9 1.2]\n",
      " [5.1 1.6]\n",
      " [4.5 1.5]\n",
      " [4.5 1.6]\n",
      " [4.7 1.5]\n",
      " [4.4 1.3]\n",
      " [4.1 1.3]\n",
      " [4.  1.3]\n",
      " [4.4 1.2]\n",
      " [4.6 1.4]\n",
      " [4.  1.2]\n",
      " [3.3 1. ]\n",
      " [4.2 1.3]\n",
      " [4.2 1.2]\n",
      " [4.2 1.3]\n",
      " [4.3 1.3]\n",
      " [3.  1.1]\n",
      " [4.1 1.3]\n",
      " [6.  2.5]\n",
      " [5.1 1.9]\n",
      " [5.9 2.1]\n",
      " [5.6 1.8]\n",
      " [5.8 2.2]\n",
      " [6.6 2.1]\n",
      " [4.5 1.7]\n",
      " [6.3 1.8]\n",
      " [5.8 1.8]\n",
      " [6.1 2.5]\n",
      " [5.1 2. ]\n",
      " [5.3 1.9]\n",
      " [5.5 2.1]\n",
      " [5.  2. ]\n",
      " [5.1 2.4]\n",
      " [5.3 2.3]\n",
      " [5.5 1.8]\n",
      " [6.7 2.2]\n",
      " [6.9 2.3]\n",
      " [5.  1.5]\n",
      " [5.7 2.3]\n",
      " [4.9 2. ]\n",
      " [6.7 2. ]\n",
      " [4.9 1.8]\n",
      " [5.7 2.1]\n",
      " [6.  1.8]\n",
      " [4.8 1.8]\n",
      " [4.9 1.8]\n",
      " [5.6 2.1]\n",
      " [5.8 1.6]\n",
      " [6.1 1.9]\n",
      " [6.4 2. ]\n",
      " [5.6 2.2]\n",
      " [5.1 1.5]\n",
      " [5.6 1.4]\n",
      " [6.1 2.3]\n",
      " [5.6 2.4]\n",
      " [5.5 1.8]\n",
      " [4.8 1.8]\n",
      " [5.4 2.1]\n",
      " [5.6 2.4]\n",
      " [5.1 2.3]\n",
      " [5.1 1.9]\n",
      " [5.9 2.3]\n",
      " [5.7 2.5]\n",
      " [5.2 2.3]\n",
      " [5.  1.9]\n",
      " [5.2 2. ]\n",
      " [5.4 2.3]\n",
      " [5.1 1.8]]\n"
     ]
    }
   ],
   "source": [
    "#Load our dataset\n",
    "iris = load_iris()\n",
    "#print(iris)\n",
    "\n",
    "#(1)Drop the first&second  features\n",
    "X = iris.data[:, 2:]  # we only take the first two features.\n",
    "y = iris.target\n",
    "print(X)\n",
    "\n",
    "#Will be used for plotting\n",
    "colors = ['r', 'b', 'g']\n",
    "markers = ['o', '*', '+']\n",
    "cls=[0, 1, 2]\n",
    "class_names = {}\n",
    "for i, label in enumerate( iris.target_names):\n",
    " class_names[i] = label\n"
   ]
  },
  {
   "cell_type": "code",
   "execution_count": 6,
   "metadata": {
    "id": "zqFq6mTjSyTI"
   },
   "outputs": [
    {
     "name": "stdout",
     "output_type": "stream",
     "text": [
      "[[1]\n",
      " [1]\n",
      " [1]\n",
      " [1]\n",
      " [1]\n",
      " [1]\n",
      " [1]\n",
      " [1]\n",
      " [1]\n",
      " [1]\n",
      " [1]\n",
      " [1]\n",
      " [1]\n",
      " [1]\n",
      " [1]\n",
      " [1]\n",
      " [1]\n",
      " [1]\n",
      " [1]\n",
      " [1]\n",
      " [1]\n",
      " [1]\n",
      " [1]\n",
      " [1]\n",
      " [1]\n",
      " [1]\n",
      " [1]\n",
      " [1]\n",
      " [1]\n",
      " [1]\n",
      " [1]\n",
      " [1]\n",
      " [1]\n",
      " [1]\n",
      " [1]\n",
      " [1]\n",
      " [1]\n",
      " [1]\n",
      " [1]\n",
      " [1]\n",
      " [1]\n",
      " [1]\n",
      " [1]\n",
      " [1]\n",
      " [1]\n",
      " [1]\n",
      " [1]\n",
      " [1]\n",
      " [1]\n",
      " [1]\n",
      " [0]\n",
      " [0]\n",
      " [0]\n",
      " [0]\n",
      " [0]\n",
      " [0]\n",
      " [0]\n",
      " [0]\n",
      " [0]\n",
      " [0]\n",
      " [0]\n",
      " [0]\n",
      " [0]\n",
      " [0]\n",
      " [0]\n",
      " [0]\n",
      " [0]\n",
      " [0]\n",
      " [0]\n",
      " [0]\n",
      " [0]\n",
      " [0]\n",
      " [0]\n",
      " [0]\n",
      " [0]\n",
      " [0]\n",
      " [0]\n",
      " [0]\n",
      " [0]\n",
      " [0]\n",
      " [0]\n",
      " [0]\n",
      " [0]\n",
      " [0]\n",
      " [0]\n",
      " [0]\n",
      " [0]\n",
      " [0]\n",
      " [0]\n",
      " [0]\n",
      " [0]\n",
      " [0]\n",
      " [0]\n",
      " [0]\n",
      " [0]\n",
      " [0]\n",
      " [0]\n",
      " [0]\n",
      " [0]\n",
      " [0]\n",
      " [0]\n",
      " [0]\n",
      " [0]\n",
      " [0]\n",
      " [0]\n",
      " [0]\n",
      " [0]\n",
      " [0]\n",
      " [0]\n",
      " [0]\n",
      " [0]\n",
      " [0]\n",
      " [0]\n",
      " [0]\n",
      " [0]\n",
      " [0]\n",
      " [0]\n",
      " [0]\n",
      " [0]\n",
      " [0]\n",
      " [0]\n",
      " [0]\n",
      " [0]\n",
      " [0]\n",
      " [0]\n",
      " [0]\n",
      " [0]\n",
      " [0]\n",
      " [0]\n",
      " [0]\n",
      " [0]\n",
      " [0]\n",
      " [0]\n",
      " [0]\n",
      " [0]\n",
      " [0]\n",
      " [0]\n",
      " [0]\n",
      " [0]\n",
      " [0]\n",
      " [0]\n",
      " [0]\n",
      " [0]\n",
      " [0]\n",
      " [0]\n",
      " [0]\n",
      " [0]\n",
      " [0]\n",
      " [0]\n",
      " [0]]\n"
     ]
    }
   ],
   "source": [
    "#binarize the labels\n",
    "yBin1 = label_binarize(y, classes=[0])\n",
    "print(yBin1)\n",
    "yBin2 = label_binarize(y, classes=[1])\n",
    "#print(yBin2)\n",
    "yBin3 = label_binarize(y, classes=[2])\n",
    "#print(yBin3)"
   ]
  },
  {
   "cell_type": "code",
   "execution_count": 7,
   "metadata": {},
   "outputs": [
    {
     "name": "stderr",
     "output_type": "stream",
     "text": [
      "c:\\users\\mahmoud sami\\appdata\\local\\programs\\python\\python39\\lib\\site-packages\\sklearn\\utils\\validation.py:63: DataConversionWarning: A column-vector y was passed when a 1d array was expected. Please change the shape of y to (n_samples, ), for example using ravel().\n",
      "  return f(*args, **kwargs)\n",
      "c:\\users\\mahmoud sami\\appdata\\local\\programs\\python\\python39\\lib\\site-packages\\sklearn\\utils\\validation.py:63: DataConversionWarning: A column-vector y was passed when a 1d array was expected. Please change the shape of y to (n_samples, ), for example using ravel().\n",
      "  return f(*args, **kwargs)\n",
      "c:\\users\\mahmoud sami\\appdata\\local\\programs\\python\\python39\\lib\\site-packages\\sklearn\\utils\\validation.py:63: DataConversionWarning: A column-vector y was passed when a 1d array was expected. Please change the shape of y to (n_samples, ), for example using ravel().\n",
      "  return f(*args, **kwargs)\n"
     ]
    },
    {
     "name": "stdout",
     "output_type": "stream",
     "text": [
      "[1 1 1 1 1 1 1 1 1 1 1 1 1 1 1 1 1 1 1 1 1 1 1 1 1 1 1 1 1 1 1 1 1 1 1 1 1\n",
      " 1 1 1 1 1 1 1 1 1 1 1 1 1 0 0 0 0 0 0 0 0 0 0 0 0 0 0 0 0 0 0 0 0 0 0 0 0\n",
      " 0 0 0 0 0 0 0 0 0 0 0 0 0 0 0 0 0 0 0 0 0 0 0 0 0 0 0 0 0 0 0 0 0 0 0 0 0\n",
      " 0 0 0 0 0 0 0 0 0 0 0 0 0 0 0 0 0 0 0 0 0 0 0 0 0 0 0 0 0 0 0 0 0 0 0 0 0\n",
      " 0 0]\n",
      "[0 0 0 0 0 0 0 0 0 0 0 0 0 0 0 0 0 0 0 0 0 0 0 0 0 0 0 0 0 0 0 0 0 0 0 0 0\n",
      " 0 0 0 0 0 0 0 0 0 0 0 0 0 0 0 0 0 0 0 0 0 0 0 0 0 0 0 0 0 0 0 0 0 0 0 0 1\n",
      " 0 0 0 0 0 0 0 0 0 0 0 0 0 0 0 0 0 0 0 0 0 0 0 0 0 0 0 0 0 0 0 1 0 1 1 0 0\n",
      " 0 0 0 0 0 0 1 1 0 0 0 1 0 0 1 0 0 0 1 1 1 0 0 1 0 0 0 0 0 0 0 0 0 0 0 0 0\n",
      " 0 0]\n",
      "[0 0 0 0 0 0 0 0 0 0 0 0 0 0 0 0 0 0 0 0 0 0 0 0 0 0 0 0 0 0 0 0 0 0 0 0 0\n",
      " 0 0 0 0 0 0 0 0 0 0 0 0 0 0 0 0 0 0 0 0 0 0 0 0 0 0 0 0 0 0 0 0 0 1 0 0 0\n",
      " 0 0 0 1 0 0 0 0 0 1 0 0 0 0 0 0 0 0 0 0 0 0 0 0 0 0 1 1 1 1 1 1 0 1 1 1 1\n",
      " 1 1 1 1 1 1 1 1 0 1 1 1 1 1 1 1 1 1 1 1 1 1 1 1 1 1 1 1 1 1 1 1 1 1 1 1 1\n",
      " 1 1]\n",
      "[[100   0]\n",
      " [  0  50]]\n",
      "Outcome values : \n",
      " 100 0 0 50\n",
      "[[89 11]\n",
      " [49  1]]\n",
      "Outcome values : \n",
      " 89 11 49 1\n",
      "[[97  3]\n",
      " [ 2 48]]\n",
      "Outcome values : \n",
      " 97 3 2 48\n",
      "Classification report : \n",
      "               precision    recall  f1-score   support\n",
      "\n",
      "           0       1.00      1.00      1.00       100\n",
      "           1       1.00      1.00      1.00        50\n",
      "\n",
      "    accuracy                           1.00       150\n",
      "   macro avg       1.00      1.00      1.00       150\n",
      "weighted avg       1.00      1.00      1.00       150\n",
      "\n",
      "Classification report : \n",
      "               precision    recall  f1-score   support\n",
      "\n",
      "           0       0.64      0.89      0.75       100\n",
      "           1       0.08      0.02      0.03        50\n",
      "\n",
      "    accuracy                           0.60       150\n",
      "   macro avg       0.36      0.46      0.39       150\n",
      "weighted avg       0.46      0.60      0.51       150\n",
      "\n",
      "Classification report : \n",
      "               precision    recall  f1-score   support\n",
      "\n",
      "           0       0.98      0.97      0.97       100\n",
      "           1       0.94      0.96      0.95        50\n",
      "\n",
      "    accuracy                           0.97       150\n",
      "   macro avg       0.96      0.96      0.96       150\n",
      "weighted avg       0.97      0.97      0.97       150\n",
      "\n"
     ]
    },
    {
     "data": {
      "image/png": "[encoded data removed]",
      "text/plain": [
       "<Figure size 432x288 with 2 Axes>"
      ]
     },
     "metadata": {
      "needs_background": "light"
     },
     "output_type": "display_data"
    },
    {
     "data": {
      "image/png": "[encoded data removed]",
      "text/plain": [
       "<Figure size 432x288 with 2 Axes>"
      ]
     },
     "metadata": {
      "needs_background": "light"
     },
     "output_type": "display_data"
    },
    {
     "data": {
      "image/png": "[encoded data removed]",
      "text/plain": [
       "<Figure size 432x288 with 2 Axes>"
      ]
     },
     "metadata": {
      "needs_background": "light"
     },
     "output_type": "display_data"
    },
    {
     "name": "stdout",
     "output_type": "stream",
     "text": [
      "Accuracy: 1.0\n",
      "F1: 1.0\n",
      "Accuracy: 0.6\n",
      "F1: 0.6\n",
      "Accuracy: 0.9666666666666667\n",
      "F1: 0.9666666666666667\n"
     ]
    },
    {
     "data": {
      "image/png": "[encoded data removed]",
      "text/plain": [
       "<Figure size 432x288 with 1 Axes>"
      ]
     },
     "metadata": {
      "needs_background": "light"
     },
     "output_type": "display_data"
    },
    {
     "data": {
      "image/png": "[encoded data removed]",
      "text/plain": [
       "<Figure size 432x288 with 1 Axes>"
      ]
     },
     "metadata": {
      "needs_background": "light"
     },
     "output_type": "display_data"
    },
    {
     "data": {
      "image/png": "[encoded data removed]",
      "text/plain": [
       "<Figure size 432x288 with 1 Axes>"
      ]
     },
     "metadata": {
      "needs_background": "light"
     },
     "output_type": "display_data"
    }
   ],
   "source": [
    "# Build OvR-LR\n",
    "\n",
    "mLr1=LogisticRegression().fit(X, yBin1)\n",
    "yLr1=mLr1.predict(X)\n",
    "print(yLr1)\n",
    "\n",
    "mLr2=LogisticRegression().fit(X, yBin2)\n",
    "yLr2=mLr2.predict(X)\n",
    "print(yLr2)\n",
    "\n",
    "mLr3=LogisticRegression().fit(X, yBin3)\n",
    "yLr3=mLr3.predict(X)\n",
    "print(yLr3)\n",
    "\n",
    "\n",
    "# Build CONFUSION Matrix\n",
    "\n",
    "cm1=confusion_matrix(yBin1,yLr1)\n",
    "print(cm1)\n",
    "tn, fp, fn, tp = confusion_matrix(yBin1,yLr1).ravel()\n",
    "print('Outcome values : \\n', tn, fp, fn, tp)\n",
    "\n",
    "cm2=confusion_matrix(yBin2,yLr2)\n",
    "print(cm2)\n",
    "tn, fp, fn, tp = confusion_matrix(yBin2,yLr2).ravel()\n",
    "print('Outcome values : \\n', tn, fp, fn, tp)\n",
    "\n",
    "cm3=confusion_matrix(yBin3,yLr3)\n",
    "print(cm3)\n",
    "tn, fp, fn, tp = confusion_matrix(yBin3,yLr3).ravel()\n",
    "print('Outcome values : \\n', tn, fp, fn, tp)\n",
    "\n",
    "# classification report for precision, recall f1-score and accuracy\n",
    "matrix1 = classification_report(yBin1,yLr1)\n",
    "print('Classification report : \\n',matrix1)\n",
    "\n",
    "matrix2 = classification_report(yBin2,yLr2)\n",
    "print('Classification report : \\n',matrix2)\n",
    "\n",
    "matrix3 = classification_report(yBin3,yLr3)\n",
    "print('Classification report : \\n',matrix3)\n",
    "\n",
    "\n",
    "disp = ConfusionMatrixDisplay(confusion_matrix=cm1)\n",
    "disp.plot() \n",
    "\n",
    "disp = ConfusionMatrixDisplay(confusion_matrix=cm2)\n",
    "disp.plot() \n",
    "\n",
    "disp = ConfusionMatrixDisplay(confusion_matrix=cm3)\n",
    "disp.plot() \n",
    "\n",
    "plt.show()\n",
    "\n",
    "# Compute Accuracy\n",
    "\n",
    "print('Accuracy:', accuracy_score(yBin1, yLr1))\n",
    "print('F1:', f1_score(yBin1, yLr1, average='micro'))\n",
    "\n",
    "print('Accuracy:', accuracy_score(yBin2, yLr2))\n",
    "print('F1:', f1_score(yBin2, yLr2, average='micro'))\n",
    "\n",
    "print('Accuracy:', accuracy_score(yBin3, yLr3))\n",
    "print('F1:', f1_score(yBin3, yLr3, average='micro'))\n",
    "\n",
    "\n",
    "plotData(X, y, cls, class_names)\n",
    "plotRegions(mLr1)\n",
    "plt.show()\n",
    "\n",
    "plotData(X, y, cls, class_names)\n",
    "plotRegions(mLr2)\n",
    "plt.show()\n",
    "\n",
    "plotData(X, y, cls, class_names)\n",
    "plotRegions(mLr3)\n",
    "plt.show()"
   ]
  },
  {
   "cell_type": "code",
   "execution_count": 140,
   "metadata": {
    "colab": {
     "base_uri": "https://localhost:8080/"
    },
    "id": "klV1uS4h2LP8",
    "outputId": "a75e6db5-a4c8-45be-8d38-c8965f6cc9c0",
    "tags": []
   },
   "outputs": [
    {
     "name": "stderr",
     "output_type": "stream",
     "text": [
      "c:\\users\\mahmoud sami\\appdata\\local\\programs\\python\\python39\\lib\\site-packages\\sklearn\\utils\\validation.py:63: DataConversionWarning: A column-vector y was passed when a 1d array was expected. Please change the shape of y to (n_samples, ), for example using ravel().\n",
      "  return f(*args, **kwargs)\n",
      "c:\\users\\mahmoud sami\\appdata\\local\\programs\\python\\python39\\lib\\site-packages\\sklearn\\utils\\validation.py:63: DataConversionWarning: A column-vector y was passed when a 1d array was expected. Please change the shape of y to (n_samples, ), for example using ravel().\n",
      "  return f(*args, **kwargs)\n",
      "c:\\users\\mahmoud sami\\appdata\\local\\programs\\python\\python39\\lib\\site-packages\\sklearn\\utils\\validation.py:63: DataConversionWarning: A column-vector y was passed when a 1d array was expected. Please change the shape of y to (n_samples, ), for example using ravel().\n",
      "  return f(*args, **kwargs)\n"
     ]
    },
    {
     "name": "stdout",
     "output_type": "stream",
     "text": [
      "[1 1 1 1 1 1 1 1 1 1 1 1 1 1 1 1 1 1 1 1 1 1 1 1 1 1 1 1 1 1 1 1 1 1 1 1 1\n",
      " 1 1 1 1 1 1 1 1 1 1 1 1 1 0 0 0 0 0 0 0 0 0 0 0 0 0 0 0 0 0 0 0 0 0 0 0 0\n",
      " 0 0 0 0 0 0 0 0 0 0 0 0 0 0 0 0 0 0 0 0 0 0 0 0 0 0 0 0 0 0 0 0 0 0 0 0 0\n",
      " 0 0 0 0 0 0 0 0 0 0 0 0 0 0 0 0 0 0 0 0 0 0 0 0 0 0 0 0 0 0 0 0 0 0 0 0 0\n",
      " 0 0]\n",
      "[0 0 0 0 0 0 0 0 0 0 0 0 0 0 0 0 0 0 0 0 0 0 0 0 0 0 0 0 0 0 0 0 0 0 0 0 0\n",
      " 0 0 0 0 0 0 0 0 0 0 0 0 0 1 1 1 1 1 1 1 1 1 1 1 1 1 1 1 1 1 1 1 1 1 1 1 1\n",
      " 1 1 1 0 1 1 1 1 1 0 1 1 1 1 1 1 1 1 1 1 1 1 1 1 1 1 0 0 0 0 0 0 1 0 0 0 0\n",
      " 0 0 0 0 0 0 0 0 1 0 0 0 0 0 0 1 0 0 0 0 0 0 1 0 0 0 0 1 0 0 0 0 0 0 0 0 0\n",
      " 0 0]\n",
      "[0 0 0 0 0 0 0 0 0 0 0 0 0 0 0 0 0 0 0 0 0 0 0 0 0 0 0 0 0 0 0 0 0 0 0 0 0\n",
      " 0 0 0 0 0 0 0 0 0 0 0 0 0 0 0 0 0 0 0 0 0 0 0 0 0 0 0 0 0 0 0 0 0 0 0 0 0\n",
      " 0 0 0 1 0 0 0 0 0 1 0 0 0 0 0 0 0 0 0 0 0 0 0 0 0 0 1 1 1 1 1 1 0 1 1 1 1\n",
      " 1 1 1 1 1 1 1 1 0 1 1 1 1 1 1 0 1 1 1 1 1 1 0 1 1 1 1 0 1 1 1 1 1 1 1 1 1\n",
      " 1 1]\n",
      "[[100   0]\n",
      " [  0  50]]\n",
      "Outcome values : \n",
      " 100 0 0 50\n",
      "[[95  5]\n",
      " [ 2 48]]\n",
      "Outcome values : \n",
      " 95 5 2 48\n",
      "[[98  2]\n",
      " [ 5 45]]\n",
      "Outcome values : \n",
      " 98 2 5 45\n",
      "Classification report : \n",
      "               precision    recall  f1-score   support\n",
      "\n",
      "           0       1.00      1.00      1.00       100\n",
      "           1       1.00      1.00      1.00        50\n",
      "\n",
      "    accuracy                           1.00       150\n",
      "   macro avg       1.00      1.00      1.00       150\n",
      "weighted avg       1.00      1.00      1.00       150\n",
      "\n",
      "Classification report : \n",
      "               precision    recall  f1-score   support\n",
      "\n",
      "           0       0.98      0.95      0.96       100\n",
      "           1       0.91      0.96      0.93        50\n",
      "\n",
      "    accuracy                           0.95       150\n",
      "   macro avg       0.94      0.95      0.95       150\n",
      "weighted avg       0.95      0.95      0.95       150\n",
      "\n",
      "Classification report : \n",
      "               precision    recall  f1-score   support\n",
      "\n",
      "           0       0.95      0.98      0.97       100\n",
      "           1       0.96      0.90      0.93        50\n",
      "\n",
      "    accuracy                           0.95       150\n",
      "   macro avg       0.95      0.94      0.95       150\n",
      "weighted avg       0.95      0.95      0.95       150\n",
      "\n"
     ]
    },
    {
     "data": {
      "image/png": "[encoded data removed]",
      "text/plain": [
       "<Figure size 432x288 with 2 Axes>"
      ]
     },
     "metadata": {
      "needs_background": "light"
     },
     "output_type": "display_data"
    },
    {
     "data": {
      "image/png": "[encoded data removed]",
      "text/plain": [
       "<Figure size 432x288 with 2 Axes>"
      ]
     },
     "metadata": {
      "needs_background": "light"
     },
     "output_type": "display_data"
    },
    {
     "data": {
      "image/png": "[encoded data removed]",
      "text/plain": [
       "<Figure size 432x288 with 2 Axes>"
      ]
     },
     "metadata": {
      "needs_background": "light"
     },
     "output_type": "display_data"
    },
    {
     "name": "stdout",
     "output_type": "stream",
     "text": [
      "Accuracy: 1.0\n",
      "Accuracy: 0.9533333333333334\n",
      "Accuracy: 0.9533333333333334\n"
     ]
    },
    {
     "data": {
      "image/png": "[encoded data removed]",
      "text/plain": [
       "<Figure size 432x288 with 1 Axes>"
      ]
     },
     "metadata": {
      "needs_background": "light"
     },
     "output_type": "display_data"
    },
    {
     "data": {
      "image/png": "[encoded data removed]",
      "text/plain": [
       "<Figure size 432x288 with 1 Axes>"
      ]
     },
     "metadata": {
      "needs_background": "light"
     },
     "output_type": "display_data"
    },
    {
     "data": {
      "image/png": "[encoded data removed]",
      "text/plain": [
       "<Figure size 432x288 with 1 Axes>"
      ]
     },
     "metadata": {
      "needs_background": "light"
     },
     "output_type": "display_data"
    }
   ],
   "source": [
    "# Build OvR-svc\n",
    "\n",
    "mSvc1=SVC().fit(X, yBin1)\n",
    "ySvc1=mSvc1.predict(X)\n",
    "print(ySvc1)\n",
    "\n",
    "mSvc2=SVC().fit(X, yBin2)\n",
    "ySvc2=mSvc2.predict(X)\n",
    "print(ySvc2)\n",
    "\n",
    "mSvc3=SVC().fit(X, yBin3)\n",
    "ySvc3=mSvc3.predict(X)\n",
    "print(ySvc3)\n",
    "\n",
    "\n",
    "\n",
    "# Build CONFUSION Matrix\n",
    "cm1=confusion_matrix(yBin1,ySvc1)\n",
    "print(cm1)\n",
    "tn, fp, fn, tp = confusion_matrix(yBin1,ySvc1).ravel()\n",
    "print('Outcome values : \\n', tn, fp, fn, tp)\n",
    "\n",
    "cm2=confusion_matrix(yBin2,ySvc2)\n",
    "print(cm2)\n",
    "tn, fp, fn, tp = confusion_matrix(yBin2,ySvc2).ravel()\n",
    "print('Outcome values : \\n', tn, fp, fn, tp)\n",
    "\n",
    "cm3=confusion_matrix(yBin3,ySvc3)\n",
    "print(cm3)\n",
    "tn, fp, fn, tp = confusion_matrix(yBin3,ySvc3).ravel()\n",
    "print('Outcome values : \\n', tn, fp, fn, tp)\n",
    "\n",
    "\n",
    "# classification report for precision, recall f1-score and accuracy\n",
    "\n",
    "matrix1 = classification_report(yBin1,ySvc1)\n",
    "print('Classification report : \\n',matrix1)\n",
    "\n",
    "matrix2 = classification_report(yBin2,ySvc2)\n",
    "print('Classification report : \\n',matrix2)\n",
    "\n",
    "matrix3 = classification_report(yBin3,ySvc3)\n",
    "print('Classification report : \\n',matrix3)\n",
    "\n",
    "\n",
    "disp = ConfusionMatrixDisplay(confusion_matrix=cm1)\n",
    "disp.plot() \n",
    "\n",
    "disp = ConfusionMatrixDisplay(confusion_matrix=cm2)\n",
    "disp.plot() \n",
    "\n",
    "disp = ConfusionMatrixDisplay(confusion_matrix=cm3)\n",
    "disp.plot() \n",
    "\n",
    "plt.show()\n",
    "\n",
    "# Compute Accuracy\n",
    "print('Accuracy:', accuracy_score(yBin1, ySvc1))\n",
    "\n",
    "print('Accuracy:', accuracy_score(yBin2, ySvc2))\n",
    "\n",
    "print('Accuracy:', accuracy_score(yBin3, ySvc3))\n",
    "\n",
    "#Plots\n",
    "\n",
    "plotData(X, y, cls, class_names)\n",
    "plotRegions(mSvc1)\n",
    "plt.show()\n",
    "\n",
    "plotData(X, y, cls, class_names)\n",
    "plotRegions(mSvc2)\n",
    "plt.show()\n",
    "\n",
    "plotData(X, y, cls, class_names)\n",
    "plotRegions(mSvc3)\n",
    "plt.show()\n",
    "\n"
   ]
  },
  {
   "cell_type": "code",
   "execution_count": 145,
   "metadata": {
    "id": "XPt-hZ1bCb-k",
    "tags": []
   },
   "outputs": [
    {
     "name": "stdout",
     "output_type": "stream",
     "text": [
      "[0 0 0 0 0 0 0 0 0 0 0 0 0 0 0 0 0 0 0 0 0 0 0 0 0 0 0 0 0 0 0 0 0 0 0 0 0\n",
      " 0 0 0 0 0 0 0 0 0 0 0 0 0 1 1 1 1 1 1 1 1 1 1 1 1 1 1 1 1 1 1 1 1 2 1 1 1\n",
      " 1 1 1 2 1 1 1 1 1 2 1 1 1 1 1 1 1 1 1 1 1 1 1 1 0 1 2 2 2 2 2 2 1 2 2 2 2\n",
      " 2 2 2 2 2 2 2 2 2 2 2 2 2 2 2 2 2 2 2 2 2 2 2 2 2 2 2 2 2 2 2 2 2 2 2 2 2\n",
      " 2 2]\n",
      "[0 0 0 0 0 0 0 0 0 0 0 0 0 0 0 0 0 0 0 0 0 0 0 0 0 0 0 0 0 0 0 0 0 0 0 0 0\n",
      " 0 0 0 0 0 0 0 0 0 0 0 0 0 1 1 1 1 1 1 1 1 1 1 1 1 1 1 1 1 1 1 1 1 1 1 1 1\n",
      " 1 1 1 1 1 1 1 1 1 1 1 1 1 1 1 1 1 1 1 1 1 1 1 1 1 1 2 2 2 2 2 2 2 2 2 2 2\n",
      " 2 2 2 2 2 2 2 2 2 2 2 2 2 2 2 2 2 2 2 2 2 2 2 2 2 2 2 2 2 2 2 2 2 2 2 2 2\n",
      " 2 2]\n",
      "[[50  0  0]\n",
      " [ 1 46  3]\n",
      " [ 0  1 49]]\n"
     ]
    },
    {
     "data": {
      "image/png": "[encoded data removed]",
      "text/plain": [
       "<Figure size 432x288 with 2 Axes>"
      ]
     },
     "metadata": {
      "needs_background": "light"
     },
     "output_type": "display_data"
    },
    {
     "name": "stdout",
     "output_type": "stream",
     "text": [
      "Classification report : \n",
      "               precision    recall  f1-score   support\n",
      "\n",
      "           0       0.98      1.00      0.99        50\n",
      "           1       0.98      0.92      0.95        50\n",
      "           2       0.94      0.98      0.96        50\n",
      "\n",
      "    accuracy                           0.97       150\n",
      "   macro avg       0.97      0.97      0.97       150\n",
      "weighted avg       0.97      0.97      0.97       150\n",
      "\n",
      "Accuracy: 0.9666666666666667\n",
      "F1: 0.9666666666666667\n",
      "[ True  True  True  True  True  True  True  True  True  True  True  True\n",
      "  True  True  True  True  True  True  True  True  True  True  True  True\n",
      "  True  True  True  True  True  True  True  True  True  True  True  True\n",
      "  True  True  True  True  True  True  True  True  True  True  True  True\n",
      "  True  True  True  True  True  True  True  True  True  True  True  True\n",
      "  True  True  True  True  True  True  True  True  True  True False  True\n",
      "  True  True  True  True  True False  True  True  True  True  True False\n",
      "  True  True  True  True  True  True  True  True  True  True  True  True\n",
      "  True  True False  True  True  True  True  True  True  True False  True\n",
      "  True  True  True  True  True  True  True  True  True  True  True  True\n",
      "  True  True  True  True  True  True  True  True  True  True  True  True\n",
      "  True  True  True  True  True  True  True  True  True  True  True  True\n",
      "  True  True  True  True  True  True]\n"
     ]
    },
    {
     "data": {
      "image/png": "[encoded data removed]",
      "text/plain": [
       "<Figure size 432x288 with 1 Axes>"
      ]
     },
     "metadata": {
      "needs_background": "light"
     },
     "output_type": "display_data"
    },
    {
     "data": {
      "image/png": "[encoded data removed]",
      "text/plain": [
       "<Figure size 432x288 with 2 Axes>"
      ]
     },
     "metadata": {
      "needs_background": "light"
     },
     "output_type": "display_data"
    }
   ],
   "source": [
    "mLr1_probabilities = mLr1.predict_proba(X)[:,1]\n",
    "mLr2_probabilities = mLr2.predict_proba(X)[:,1]\n",
    "mLr3_probabilities = mLr3.predict_proba(X)[:,1]\n",
    "class_probabilities = np.array([mLr1_probabilities,mLr2_probabilities,mLr3_probabilities])\n",
    "yPargmax=np.argmax(class_probabilities, axis=0)\n",
    "print (yPargmax)\n",
    "print (y)\n",
    "\n",
    "# Build CONFUSION Matrix\n",
    "cm1=confusion_matrix( y , yPargmax ) \n",
    "print(cm1)\n",
    "disp = ConfusionMatrixDisplay(confusion_matrix=cm1)\n",
    "disp.plot()\n",
    "plt.show()\n",
    "\n",
    "# classification report for precision, recall f1-score and accuracy\n",
    "matrix1 = classification_report(y,yPargmax)\n",
    "print('Classification report : \\n',matrix1)\n",
    "\n",
    "# Compute Accuracy\n",
    "print('Accuracy:', accuracy_score(y,yPargmax))\n",
    "print('F1:', f1_score(y,yPargmax, average='micro'))\n",
    "\n",
    "\n",
    "#Plot prediction points\n",
    "w_cValues= y==yPargmax\n",
    "print(w_cValues)\n",
    "\n",
    "plotData(X, w_cValues, [0,1], [\"False\",\"True\"])\n",
    "disp.plot()\n",
    "plt.show()"
   ]
  },
  {
   "cell_type": "code",
   "execution_count": 146,
   "metadata": {},
   "outputs": [
    {
     "name": "stderr",
     "output_type": "stream",
     "text": [
      "c:\\users\\mahmoud sami\\appdata\\local\\programs\\python\\python39\\lib\\site-packages\\sklearn\\utils\\validation.py:63: DataConversionWarning: A column-vector y was passed when a 1d array was expected. Please change the shape of y to (n_samples, ), for example using ravel().\n",
      "  return f(*args, **kwargs)\n",
      "c:\\users\\mahmoud sami\\appdata\\local\\programs\\python\\python39\\lib\\site-packages\\sklearn\\utils\\validation.py:63: DataConversionWarning: A column-vector y was passed when a 1d array was expected. Please change the shape of y to (n_samples, ), for example using ravel().\n",
      "  return f(*args, **kwargs)\n",
      "c:\\users\\mahmoud sami\\appdata\\local\\programs\\python\\python39\\lib\\site-packages\\sklearn\\utils\\validation.py:63: DataConversionWarning: A column-vector y was passed when a 1d array was expected. Please change the shape of y to (n_samples, ), for example using ravel().\n",
      "  return f(*args, **kwargs)\n"
     ]
    },
    {
     "name": "stdout",
     "output_type": "stream",
     "text": [
      "[0 0 0 0 0 0 0 0 0 0 0 0 0 0 0 0 0 0 0 0 0 0 0 0 0 0 0 0 0 0 0 0 0 0 0 0 0\n",
      " 0 0 0 0 0 0 0 0 0 0 0 0 0 1 1 1 1 1 1 1 1 1 1 1 1 1 1 1 1 1 1 1 1 2 1 1 1\n",
      " 1 1 1 2 1 1 1 1 1 2 1 1 1 1 1 1 1 1 1 1 1 1 1 1 1 1 2 2 2 2 2 2 1 2 2 2 2\n",
      " 2 2 2 2 2 2 2 2 1 2 2 2 2 2 2 2 2 2 2 2 2 2 2 2 2 2 2 2 2 2 2 2 2 2 2 2 2\n",
      " 2 2]\n",
      "[0 0 0 0 0 0 0 0 0 0 0 0 0 0 0 0 0 0 0 0 0 0 0 0 0 0 0 0 0 0 0 0 0 0 0 0 0\n",
      " 0 0 0 0 0 0 0 0 0 0 0 0 0 1 1 1 1 1 1 1 1 1 1 1 1 1 1 1 1 1 1 1 1 1 1 1 1\n",
      " 1 1 1 1 1 1 1 1 1 1 1 1 1 1 1 1 1 1 1 1 1 1 1 1 1 1 2 2 2 2 2 2 2 2 2 2 2\n",
      " 2 2 2 2 2 2 2 2 2 2 2 2 2 2 2 2 2 2 2 2 2 2 2 2 2 2 2 2 2 2 2 2 2 2 2 2 2\n",
      " 2 2]\n",
      "[[50  0  0]\n",
      " [ 0 47  3]\n",
      " [ 0  2 48]]\n",
      "Classification report : \n",
      "               precision    recall  f1-score   support\n",
      "\n",
      "           0       1.00      1.00      1.00        50\n",
      "           1       0.96      0.94      0.95        50\n",
      "           2       0.94      0.96      0.95        50\n",
      "\n",
      "    accuracy                           0.97       150\n",
      "   macro avg       0.97      0.97      0.97       150\n",
      "weighted avg       0.97      0.97      0.97       150\n",
      "\n",
      "Accuracy: 0.9666666666666667\n",
      "F1: 0.9666666666666667\n",
      "[ True  True  True  True  True  True  True  True  True  True  True  True\n",
      "  True  True  True  True  True  True  True  True  True  True  True  True\n",
      "  True  True  True  True  True  True  True  True  True  True  True  True\n",
      "  True  True  True  True  True  True  True  True  True  True  True  True\n",
      "  True  True  True  True  True  True  True  True  True  True  True  True\n",
      "  True  True  True  True  True  True  True  True  True  True False  True\n",
      "  True  True  True  True  True False  True  True  True  True  True False\n",
      "  True  True  True  True  True  True  True  True  True  True  True  True\n",
      "  True  True  True  True  True  True  True  True  True  True False  True\n",
      "  True  True  True  True  True  True  True  True  True  True  True False\n",
      "  True  True  True  True  True  True  True  True  True  True  True  True\n",
      "  True  True  True  True  True  True  True  True  True  True  True  True\n",
      "  True  True  True  True  True  True]\n"
     ]
    },
    {
     "data": {
      "image/png": "[encoded data removed]",
      "text/plain": [
       "<Figure size 432x288 with 2 Axes>"
      ]
     },
     "metadata": {
      "needs_background": "light"
     },
     "output_type": "display_data"
    }
   ],
   "source": [
    "mSvc1=SVC(probability=True).fit(X, yBin1)\n",
    "mSvc2=SVC(probability=True).fit(X, yBin2)\n",
    "mSvc3=SVC(probability=True).fit(X, yBin3)\n",
    "\n",
    "mSvc1_probabilities = mSvc1.predict_proba(X)[:,1]\n",
    "mSvc2_probabilities = mSvc2.predict_proba(X)[:,1]\n",
    "mSvc3_probabilities = mSvc3.predict_proba(X)[:,1]\n",
    "class_probabilities = np.array([mSvc1_probabilities,mSvc2_probabilities,mSvc3_probabilities])\n",
    "\n",
    "yPargmax=np.argmax(class_probabilities, axis=0)\n",
    "print (yPargmax)\n",
    "print (y)\n",
    "\n",
    "# Build CONFUSION Matrix\n",
    "cm1=confusion_matrix( y , yPargmax ) \n",
    "print(cm1)\n",
    "disp = ConfusionMatrixDisplay(confusion_matrix=cm1)\n",
    "disp.plot()\n",
    "\n",
    "# classification report for precision, recall f1-score and accuracy\n",
    "matrix1 = classification_report(y,yPargmax)\n",
    "print('Classification report : \\n',matrix1)\n",
    "\n",
    "# Compute Accuracy\n",
    "print('Accuracy:', accuracy_score(y,yPargmax))\n",
    "print('F1:', f1_score(y,yPargmax, average='micro'))\n",
    "\n",
    "#Plot prediction points\n",
    "w_cValues= y==yPargmax\n",
    "print(w_cValues)\n"
   ]
  },
  {
   "cell_type": "code",
   "execution_count": 147,
   "metadata": {},
   "outputs": [
    {
     "name": "stdout",
     "output_type": "stream",
     "text": [
      "[0 0 0 0 0 0 0 0 0 0 0 0 0 0 0 0 0 0 0 0 0 0 0 0 0 0 0 0 0 0 0 0 0 0 0 0 0\n",
      " 0 0 0 0 0 0 0 0 0 0 0 0 0 1 1 1 1 1 1 1 1 1 1 1 1 1 1 1 1 1 1 1 1 2 1 1 1\n",
      " 1 1 1 1 1 1 1 1 1 1 1 1 1 1 1 1 1 1 1 1 1 1 1 1 1 1 2 2 2 2 2 2 2 2 2 2 2\n",
      " 2 2 2 2 2 2 2 2 2 2 2 2 2 2 2 2 2 2 2 2 2 2 2 2 2 2 2 2 2 2 2 2 2 2 2 2 2\n",
      " 2 2]\n",
      "[[50  0  0]\n",
      " [ 0 49  1]\n",
      " [ 0  0 50]]\n",
      "Classification report : \n",
      "               precision    recall  f1-score   support\n",
      "\n",
      "           0       1.00      1.00      1.00        50\n",
      "           1       1.00      0.98      0.99        50\n",
      "           2       0.98      1.00      0.99        50\n",
      "\n",
      "    accuracy                           0.99       150\n",
      "   macro avg       0.99      0.99      0.99       150\n",
      "weighted avg       0.99      0.99      0.99       150\n",
      "\n"
     ]
    },
    {
     "data": {
      "image/png": "[encoded data removed]",
      "text/plain": [
       "<Figure size 432x288 with 2 Axes>"
      ]
     },
     "metadata": {
      "needs_background": "light"
     },
     "output_type": "display_data"
    },
    {
     "name": "stdout",
     "output_type": "stream",
     "text": [
      "Accuracy: 0.9933333333333333\n"
     ]
    },
    {
     "data": {
      "text/plain": [
       "[Text(167.4, 199.32, 'X[0] <= 2.45\\ngini = 0.667\\nsamples = 150\\nvalue = [50, 50, 50]'),\n",
       " Text(136.96363636363637, 163.07999999999998, 'gini = 0.0\\nsamples = 50\\nvalue = [50, 0, 0]'),\n",
       " Text(197.83636363636364, 163.07999999999998, 'X[1] <= 1.75\\ngini = 0.5\\nsamples = 100\\nvalue = [0, 50, 50]'),\n",
       " Text(121.74545454545455, 126.83999999999999, 'X[0] <= 4.95\\ngini = 0.168\\nsamples = 54\\nvalue = [0, 49, 5]'),\n",
       " Text(60.872727272727275, 90.6, 'X[1] <= 1.65\\ngini = 0.041\\nsamples = 48\\nvalue = [0, 47, 1]'),\n",
       " Text(30.436363636363637, 54.359999999999985, 'gini = 0.0\\nsamples = 47\\nvalue = [0, 47, 0]'),\n",
       " Text(91.30909090909091, 54.359999999999985, 'gini = 0.0\\nsamples = 1\\nvalue = [0, 0, 1]'),\n",
       " Text(182.61818181818182, 90.6, 'X[1] <= 1.55\\ngini = 0.444\\nsamples = 6\\nvalue = [0, 2, 4]'),\n",
       " Text(152.1818181818182, 54.359999999999985, 'gini = 0.0\\nsamples = 3\\nvalue = [0, 0, 3]'),\n",
       " Text(213.05454545454546, 54.359999999999985, 'X[0] <= 5.45\\ngini = 0.444\\nsamples = 3\\nvalue = [0, 2, 1]'),\n",
       " Text(182.61818181818182, 18.119999999999976, 'gini = 0.0\\nsamples = 2\\nvalue = [0, 2, 0]'),\n",
       " Text(243.4909090909091, 18.119999999999976, 'gini = 0.0\\nsamples = 1\\nvalue = [0, 0, 1]'),\n",
       " Text(273.92727272727274, 126.83999999999999, 'X[0] <= 4.85\\ngini = 0.043\\nsamples = 46\\nvalue = [0, 1, 45]'),\n",
       " Text(243.4909090909091, 90.6, 'gini = 0.444\\nsamples = 3\\nvalue = [0, 1, 2]'),\n",
       " Text(304.3636363636364, 90.6, 'gini = 0.0\\nsamples = 43\\nvalue = [0, 0, 43]')]"
      ]
     },
     "execution_count": 147,
     "metadata": {},
     "output_type": "execute_result"
    },
    {
     "data": {
      "image/png": "[encoded data removed]",
      "text/plain": [
       "<Figure size 432x288 with 1 Axes>"
      ]
     },
     "metadata": {
      "needs_background": "light"
     },
     "output_type": "display_data"
    }
   ],
   "source": [
    "from sklearn import tree\n",
    "\n",
    "# Build DecisionTree\n",
    "mDt=tree.DecisionTreeClassifier().fit(X, y)\n",
    "yDt=mDt.predict(X)\n",
    "print(yDt)\n",
    "\n",
    "# Build CONFUSION Matrix\n",
    "cm1=confusion_matrix(y,yDt)\n",
    "print(cm1)\n",
    "disp = ConfusionMatrixDisplay(confusion_matrix=cm1)\n",
    "disp.plot() \n",
    "plt.show()\n",
    "\n",
    "# classification report for precision, recall f1-score and accuracy\n",
    "matrix1 = classification_report(y,yDt)\n",
    "print('Classification report : \\n',matrix1)\n",
    "\n",
    "# Compute Accuracy\n",
    "print('Accuracy:', accuracy_score(y, yDt))\n",
    "\n",
    "#plot the tree\n",
    "tree.plot_tree(mDt)\n",
    "\n"
   ]
  },
  {
   "cell_type": "code",
   "execution_count": 131,
   "metadata": {
    "colab": {
     "base_uri": "https://localhost:8080/",
     "height": 374
    },
    "id": "bMTTslq7tsbj",
    "outputId": "5059ef27-31be-4e21-a3ca-af54f9fab8b7"
   },
   "outputs": [
    {
     "name": "stdout",
     "output_type": "stream",
     "text": [
      "150\n",
      "[[9.81768704e-01 9.81768704e-01 9.85874431e-01 9.76498059e-01\n",
      "  9.81768704e-01 9.52249344e-01 9.79737536e-01 9.76498059e-01\n",
      "  9.81768704e-01 9.78846950e-01 9.76498059e-01 9.69750624e-01\n",
      "  9.83599670e-01 9.92399386e-01 9.89065837e-01 9.71012842e-01\n",
      "  9.82538473e-01 9.79737536e-01 9.56914832e-01 9.73895296e-01\n",
      "  9.61143078e-01 9.71012842e-01 9.93461720e-01 9.47106578e-01\n",
      "  9.36409236e-01 9.69750624e-01 9.62750668e-01 9.76498059e-01\n",
      "  9.81768704e-01 9.69750624e-01 9.69750624e-01 9.71012842e-01\n",
      "  9.78846950e-01 9.81768704e-01 9.76498059e-01 9.89065837e-01\n",
      "  9.85874431e-01 9.83599670e-01 9.85874431e-01 9.76498059e-01\n",
      "  9.84293368e-01 9.84293368e-01 9.85874431e-01 9.54207356e-01\n",
      "  9.22311904e-01 9.79737536e-01 9.69750624e-01 9.81768704e-01\n",
      "  9.76498059e-01 9.81768704e-01 2.83190176e-03 4.26508208e-03\n",
      "  1.51575452e-03 1.90587735e-02 3.29402369e-03 5.28482613e-03\n",
      "  2.28437961e-03 1.41535326e-01 4.08254803e-03 2.21101530e-02\n",
      "  8.93783611e-02 9.23899142e-03 2.61379698e-02 2.83190176e-03\n",
      "  5.19719658e-02 6.14476022e-03 4.26508208e-03 2.02884398e-02\n",
      "  4.26508208e-03 3.02877593e-02 1.42223411e-03 1.90587735e-02\n",
      "  1.51575452e-03 3.51019281e-03 8.84547843e-03 6.14476022e-03\n",
      "  2.18642817e-03 9.43420773e-04 4.26508208e-03 8.93783611e-02\n",
      "  3.89057891e-02 5.52056716e-02 2.72796086e-02 8.10799055e-04\n",
      "  4.26508208e-03 3.83126693e-03 2.54348761e-03 6.83873435e-03\n",
      "  1.47695006e-02 1.90587735e-02 7.61048406e-03 3.66723062e-03\n",
      "  2.11801429e-02 1.41535326e-01 1.14342978e-02 1.27180148e-02\n",
      "  1.14342978e-02 8.84547843e-03 2.43733461e-01 1.47695006e-02\n",
      "  2.98310936e-05 5.87067462e-04 5.94808143e-05 1.78862588e-04\n",
      "  6.92185543e-05 9.68345928e-06 3.44142400e-03 2.91216881e-05\n",
      "  1.06488558e-04 2.30169690e-05 5.27156896e-04 3.49577280e-04\n",
      "  1.67813097e-04 6.83118612e-04 3.42707354e-04 2.27247824e-04\n",
      "  2.31803780e-04 6.70862738e-06 3.58602137e-06 1.16991758e-03\n",
      "  8.05503536e-05 8.85181430e-04 8.32111021e-06 1.09771148e-03\n",
      "  9.99096292e-05 6.33977231e-05 1.42223411e-03 1.09771148e-03\n",
      "  1.29484714e-04 1.32080935e-04 4.39221880e-05 1.81154456e-05\n",
      "  1.16265293e-04 9.02915993e-04 2.75153024e-04 2.85492060e-05\n",
      "  9.37371126e-05 2.31803780e-04 1.42223411e-03 2.17484484e-04\n",
      "  9.37371126e-05 3.81663520e-04 5.87067462e-04 4.79549682e-05\n",
      "  6.49420399e-05 2.94506250e-04 7.60740495e-04 4.06788055e-04\n",
      "  1.75346975e-04 6.53782318e-04]\n",
      " [2.16764995e-01 2.16764995e-01 2.02098673e-01 2.32185936e-01\n",
      "  2.16764995e-01 2.09643092e-01 1.91736919e-01 2.32185936e-01\n",
      "  2.16764995e-01 2.60790356e-01 2.32185936e-01 2.48356074e-01\n",
      "  2.44073525e-01 1.98403222e-01 1.88186251e-01 1.81785385e-01\n",
      "  1.56894610e-01 1.91736919e-01 2.36325111e-01 2.05845279e-01\n",
      "  2.65263293e-01 1.81785385e-01 1.62593206e-01 1.85242840e-01\n",
      "  3.01204323e-01 2.48356074e-01 1.95338461e-01 2.32185936e-01\n",
      "  2.16764995e-01 2.48356074e-01 2.48356074e-01 1.81785385e-01\n",
      "  2.60790356e-01 2.16764995e-01 2.32185936e-01 1.88186251e-01\n",
      "  2.02098673e-01 2.44073525e-01 2.02098673e-01 2.32185936e-01\n",
      "  1.78378332e-01 1.78378332e-01 2.02098673e-01 1.51359639e-01\n",
      "  2.40514962e-01 1.91736919e-01 2.48356074e-01 2.16764995e-01\n",
      "  2.32185936e-01 2.16764995e-01 4.47636385e-01 3.67817911e-01\n",
      "  4.53348610e-01 3.37076402e-01 3.88652581e-01 4.41937947e-01\n",
      "  3.73199760e-01 3.02760650e-01 4.63890278e-01 2.85140412e-01\n",
      "  3.41421394e-01 3.08440736e-01 4.46723767e-01 4.47636385e-01\n",
      "  2.62931035e-01 3.83184121e-01 3.67817911e-01 4.68714158e-01\n",
      "  3.67817911e-01 3.87775794e-01 3.23399421e-01 3.37076402e-01\n",
      "  4.53348610e-01 5.24496245e-01 3.98787331e-01 3.83184121e-01\n",
      "  4.69633569e-01 3.99672762e-01 3.67817911e-01 3.41421394e-01\n",
      "  3.66959914e-01 3.82311956e-01 3.51873164e-01 4.59073146e-01\n",
      "  3.67817911e-01 3.32758766e-01 4.09902203e-01 4.20210198e-01\n",
      "  3.57153516e-01 3.37076402e-01 4.58156551e-01 4.25842258e-01\n",
      "  3.72336602e-01 3.02760650e-01 3.77745061e-01 4.14598838e-01\n",
      "  3.77745061e-01 3.98787331e-01 2.21980810e-01 3.57153516e-01\n",
      "  3.19975369e-01 3.48302833e-01 4.43759666e-01 4.92672066e-01\n",
      "  3.84930704e-01 5.97329890e-01 2.99458401e-01 6.43584328e-01\n",
      "  5.36909225e-01 3.39555629e-01 3.14179368e-01 3.89530089e-01\n",
      "  3.58850477e-01 2.95407897e-01 1.98256097e-01 2.56190156e-01\n",
      "  4.70553185e-01 5.81471605e-01 5.87076501e-01 4.75384913e-01\n",
      "  3.29283847e-01 2.77304489e-01 6.54099016e-01 3.43083499e-01\n",
      "  4.00558849e-01 5.80572921e-01 3.23399421e-01 3.43083499e-01\n",
      "  3.79482105e-01 6.12111072e-01 5.64535804e-01 5.91767392e-01\n",
      "  3.43915999e-01 4.97517491e-01 6.42737071e-01 4.11689286e-01\n",
      "  2.78044933e-01 4.70553185e-01 3.23399421e-01 3.38728234e-01\n",
      "  2.78044933e-01 2.23899413e-01 3.48302833e-01 3.69536415e-01\n",
      "  2.65082983e-01 2.39672593e-01 3.28469033e-01 3.33578936e-01\n",
      "  2.73436680e-01 3.84057038e-01]\n",
      " [1.88358604e-06 1.88358604e-06 1.42677316e-06 2.48665728e-06\n",
      "  1.88358604e-06 6.98359568e-06 2.39104123e-06 2.48665728e-06\n",
      "  1.88358604e-06 1.95890935e-06 2.48665728e-06 3.28281431e-06\n",
      "  1.48382886e-06 6.44899418e-07 1.08074777e-06 4.00699608e-06\n",
      "  2.29910177e-06 2.39104123e-06 5.50145935e-06 3.15658482e-06\n",
      "  4.33387712e-06 4.00699608e-06 6.20101936e-07 8.86502761e-06\n",
      "  7.55329867e-06 3.28281431e-06 5.28991985e-06 2.48665728e-06\n",
      "  1.88358604e-06 3.28281431e-06 3.28281431e-06 4.00699608e-06\n",
      "  1.95890935e-06 1.88358604e-06 2.48665728e-06 1.08074777e-06\n",
      "  1.42677316e-06 1.48382886e-06 1.42677316e-06 2.48665728e-06\n",
      "  1.81115903e-06 1.81115903e-06 1.42677316e-06 8.52415488e-06\n",
      "  1.21713373e-05 2.39104123e-06 3.28281431e-06 1.88358604e-06\n",
      "  2.48665728e-06 1.88358604e-06 2.39842385e-01 1.86864067e-01\n",
      "  4.11088654e-01 3.43422368e-02 2.32766688e-01 1.24813009e-01\n",
      "  3.37056366e-01 2.48145119e-03 1.58443065e-01 3.30653819e-02\n",
      "  4.31685414e-03 9.08083698e-02 1.70889002e-02 2.39842385e-01\n",
      "  1.15725013e-02 1.20592489e-01 1.86864067e-01 2.24375340e-02\n",
      "  1.86864067e-01 1.64426069e-02 5.19596644e-01 3.43422368e-02\n",
      "  4.11088654e-01 1.63741632e-01 7.56379329e-02 1.20592489e-01\n",
      "  2.94052760e-01 5.97581909e-01 1.86864067e-01 4.31685414e-03\n",
      "  1.25047567e-02 7.49960465e-03 2.07803524e-02 6.06974026e-01\n",
      "  1.86864067e-01 2.25837717e-01 2.85979446e-01 9.74940966e-02\n",
      "  4.48445955e-02 3.43422368e-02 7.84254332e-02 1.92895222e-01\n",
      "  2.72523349e-02 2.48145119e-03 5.83646087e-02 4.65544172e-02\n",
      "  5.83646087e-02 7.56379329e-02 1.37056220e-03 4.48445955e-02\n",
      "  9.93827386e-01 7.59559561e-01 9.79152851e-01 9.08920671e-01\n",
      "  9.78337245e-01 9.96962893e-01 2.70238507e-01 9.85864988e-01\n",
      "  9.45630676e-01 9.95317379e-01 8.00403532e-01 8.46289610e-01\n",
      "  9.39256040e-01 7.52325897e-01 9.12378330e-01 9.34624632e-01\n",
      "  8.83166553e-01 9.98185488e-01 9.99179028e-01 4.79585296e-01\n",
      "  9.77490465e-01 6.97050830e-01 9.97079334e-01 5.88117653e-01\n",
      "  9.64220521e-01 9.68064394e-01 5.19596644e-01 5.88117653e-01\n",
      "  9.53299888e-01 9.15207829e-01 9.80694890e-01 9.93305362e-01\n",
      "  9.62842886e-01 5.48858168e-01 7.93527161e-01 9.92475960e-01\n",
      "  9.76611375e-01 8.83166553e-01 5.19596644e-01 9.21337359e-01\n",
      "  9.76611375e-01 8.91337305e-01 7.59559561e-01 9.86959570e-01\n",
      "  9.85910747e-01 9.15462711e-01 7.05266422e-01 8.41119430e-01\n",
      "  9.49681887e-01 7.13350838e-01]]\n",
      "450\n",
      "DecisionTreeClassifier()\n",
      "[0 0 0 0 0 0 0 0 0 0 0 0 0 0 0 0 0 0 0 0 0 0 0 0 0 0 0 0 0 0 0 0 0 0 0 0 0\n",
      " 0 0 0 0 0 0 0 0 0 0 0 0 0 1 1 1 1 1 1 1 1 1 1 1 1 1 1 1 1 1 1 1 1 1 1 1 1\n",
      " 1 1 1 1 1 1 1 1 1 1 1 1 1 1 1 1 1 1 1 1 1 1 1 1 1 1 2 2 2 2 2 2 2 2 2 2 2\n",
      " 2 2 2 2 2 2 2 2 2 2 2 2 2 2 2 2 2 2 2 2 2 2 2 2 2 2 2 2 2 2 2 2 2 2 2 2 2\n",
      " 2 2]\n"
     ]
    },
    {
     "ename": "TypeError",
     "evalue": "Expected sequence or array-like, got <class 'sklearn.tree._classes.DecisionTreeClassifier'>",
     "output_type": "error",
     "traceback": [
      "\u001b[1;31m---------------------------------------------------------------------------\u001b[0m",
      "\u001b[1;31mTypeError\u001b[0m                                 Traceback (most recent call last)",
      "\u001b[1;32m<ipython-input-131-102552ebe9cf>\u001b[0m in \u001b[0;36m<module>\u001b[1;34m\u001b[0m\n\u001b[0;32m     21\u001b[0m \u001b[1;33m\u001b[0m\u001b[0m\n\u001b[0;32m     22\u001b[0m \u001b[1;31m# Build CONFUSION Matrix\u001b[0m\u001b[1;33m\u001b[0m\u001b[1;33m\u001b[0m\u001b[1;33m\u001b[0m\u001b[0m\n\u001b[1;32m---> 23\u001b[1;33m \u001b[0mcm1\u001b[0m\u001b[1;33m=\u001b[0m\u001b[0mconfusion_matrix\u001b[0m\u001b[1;33m(\u001b[0m \u001b[0my\u001b[0m \u001b[1;33m,\u001b[0m \u001b[0myPargmax\u001b[0m \u001b[1;33m)\u001b[0m\u001b[1;33m\u001b[0m\u001b[1;33m\u001b[0m\u001b[0m\n\u001b[0m\u001b[0;32m     24\u001b[0m \u001b[0mprint\u001b[0m\u001b[1;33m(\u001b[0m\u001b[0mcm1\u001b[0m\u001b[1;33m)\u001b[0m\u001b[1;33m\u001b[0m\u001b[1;33m\u001b[0m\u001b[0m\n\u001b[0;32m     25\u001b[0m \u001b[1;33m\u001b[0m\u001b[0m\n",
      "\u001b[1;32mc:\\users\\mahmoud sami\\appdata\\local\\programs\\python\\python39\\lib\\site-packages\\sklearn\\utils\\validation.py\u001b[0m in \u001b[0;36minner_f\u001b[1;34m(*args, **kwargs)\u001b[0m\n\u001b[0;32m     61\u001b[0m             \u001b[0mextra_args\u001b[0m \u001b[1;33m=\u001b[0m \u001b[0mlen\u001b[0m\u001b[1;33m(\u001b[0m\u001b[0margs\u001b[0m\u001b[1;33m)\u001b[0m \u001b[1;33m-\u001b[0m \u001b[0mlen\u001b[0m\u001b[1;33m(\u001b[0m\u001b[0mall_args\u001b[0m\u001b[1;33m)\u001b[0m\u001b[1;33m\u001b[0m\u001b[1;33m\u001b[0m\u001b[0m\n\u001b[0;32m     62\u001b[0m             \u001b[1;32mif\u001b[0m \u001b[0mextra_args\u001b[0m \u001b[1;33m<=\u001b[0m \u001b[1;36m0\u001b[0m\u001b[1;33m:\u001b[0m\u001b[1;33m\u001b[0m\u001b[1;33m\u001b[0m\u001b[0m\n\u001b[1;32m---> 63\u001b[1;33m                 \u001b[1;32mreturn\u001b[0m \u001b[0mf\u001b[0m\u001b[1;33m(\u001b[0m\u001b[1;33m*\u001b[0m\u001b[0margs\u001b[0m\u001b[1;33m,\u001b[0m \u001b[1;33m**\u001b[0m\u001b[0mkwargs\u001b[0m\u001b[1;33m)\u001b[0m\u001b[1;33m\u001b[0m\u001b[1;33m\u001b[0m\u001b[0m\n\u001b[0m\u001b[0;32m     64\u001b[0m \u001b[1;33m\u001b[0m\u001b[0m\n\u001b[0;32m     65\u001b[0m             \u001b[1;31m# extra_args > 0\u001b[0m\u001b[1;33m\u001b[0m\u001b[1;33m\u001b[0m\u001b[1;33m\u001b[0m\u001b[0m\n",
      "\u001b[1;32mc:\\users\\mahmoud sami\\appdata\\local\\programs\\python\\python39\\lib\\site-packages\\sklearn\\metrics\\_classification.py\u001b[0m in \u001b[0;36mconfusion_matrix\u001b[1;34m(y_true, y_pred, labels, sample_weight, normalize)\u001b[0m\n\u001b[0;32m    297\u001b[0m \u001b[1;33m\u001b[0m\u001b[0m\n\u001b[0;32m    298\u001b[0m     \"\"\"\n\u001b[1;32m--> 299\u001b[1;33m     \u001b[0my_type\u001b[0m\u001b[1;33m,\u001b[0m \u001b[0my_true\u001b[0m\u001b[1;33m,\u001b[0m \u001b[0my_pred\u001b[0m \u001b[1;33m=\u001b[0m \u001b[0m_check_targets\u001b[0m\u001b[1;33m(\u001b[0m\u001b[0my_true\u001b[0m\u001b[1;33m,\u001b[0m \u001b[0my_pred\u001b[0m\u001b[1;33m)\u001b[0m\u001b[1;33m\u001b[0m\u001b[1;33m\u001b[0m\u001b[0m\n\u001b[0m\u001b[0;32m    300\u001b[0m     \u001b[1;32mif\u001b[0m \u001b[0my_type\u001b[0m \u001b[1;32mnot\u001b[0m \u001b[1;32min\u001b[0m \u001b[1;33m(\u001b[0m\u001b[1;34m\"binary\"\u001b[0m\u001b[1;33m,\u001b[0m \u001b[1;34m\"multiclass\"\u001b[0m\u001b[1;33m)\u001b[0m\u001b[1;33m:\u001b[0m\u001b[1;33m\u001b[0m\u001b[1;33m\u001b[0m\u001b[0m\n\u001b[0;32m    301\u001b[0m         \u001b[1;32mraise\u001b[0m \u001b[0mValueError\u001b[0m\u001b[1;33m(\u001b[0m\u001b[1;34m\"%s is not supported\"\u001b[0m \u001b[1;33m%\u001b[0m \u001b[0my_type\u001b[0m\u001b[1;33m)\u001b[0m\u001b[1;33m\u001b[0m\u001b[1;33m\u001b[0m\u001b[0m\n",
      "\u001b[1;32mc:\\users\\mahmoud sami\\appdata\\local\\programs\\python\\python39\\lib\\site-packages\\sklearn\\metrics\\_classification.py\u001b[0m in \u001b[0;36m_check_targets\u001b[1;34m(y_true, y_pred)\u001b[0m\n\u001b[0;32m     81\u001b[0m     \u001b[0my_pred\u001b[0m \u001b[1;33m:\u001b[0m \u001b[0marray\u001b[0m \u001b[1;32mor\u001b[0m \u001b[0mindicator\u001b[0m \u001b[0mmatrix\u001b[0m\u001b[1;33m\u001b[0m\u001b[1;33m\u001b[0m\u001b[0m\n\u001b[0;32m     82\u001b[0m     \"\"\"\n\u001b[1;32m---> 83\u001b[1;33m     \u001b[0mcheck_consistent_length\u001b[0m\u001b[1;33m(\u001b[0m\u001b[0my_true\u001b[0m\u001b[1;33m,\u001b[0m \u001b[0my_pred\u001b[0m\u001b[1;33m)\u001b[0m\u001b[1;33m\u001b[0m\u001b[1;33m\u001b[0m\u001b[0m\n\u001b[0m\u001b[0;32m     84\u001b[0m     \u001b[0mtype_true\u001b[0m \u001b[1;33m=\u001b[0m \u001b[0mtype_of_target\u001b[0m\u001b[1;33m(\u001b[0m\u001b[0my_true\u001b[0m\u001b[1;33m)\u001b[0m\u001b[1;33m\u001b[0m\u001b[1;33m\u001b[0m\u001b[0m\n\u001b[0;32m     85\u001b[0m     \u001b[0mtype_pred\u001b[0m \u001b[1;33m=\u001b[0m \u001b[0mtype_of_target\u001b[0m\u001b[1;33m(\u001b[0m\u001b[0my_pred\u001b[0m\u001b[1;33m)\u001b[0m\u001b[1;33m\u001b[0m\u001b[1;33m\u001b[0m\u001b[0m\n",
      "\u001b[1;32mc:\\users\\mahmoud sami\\appdata\\local\\programs\\python\\python39\\lib\\site-packages\\sklearn\\utils\\validation.py\u001b[0m in \u001b[0;36mcheck_consistent_length\u001b[1;34m(*arrays)\u001b[0m\n\u001b[0;32m    314\u001b[0m     \"\"\"\n\u001b[0;32m    315\u001b[0m \u001b[1;33m\u001b[0m\u001b[0m\n\u001b[1;32m--> 316\u001b[1;33m     \u001b[0mlengths\u001b[0m \u001b[1;33m=\u001b[0m \u001b[1;33m[\u001b[0m\u001b[0m_num_samples\u001b[0m\u001b[1;33m(\u001b[0m\u001b[0mX\u001b[0m\u001b[1;33m)\u001b[0m \u001b[1;32mfor\u001b[0m \u001b[0mX\u001b[0m \u001b[1;32min\u001b[0m \u001b[0marrays\u001b[0m \u001b[1;32mif\u001b[0m \u001b[0mX\u001b[0m \u001b[1;32mis\u001b[0m \u001b[1;32mnot\u001b[0m \u001b[1;32mNone\u001b[0m\u001b[1;33m]\u001b[0m\u001b[1;33m\u001b[0m\u001b[1;33m\u001b[0m\u001b[0m\n\u001b[0m\u001b[0;32m    317\u001b[0m     \u001b[0muniques\u001b[0m \u001b[1;33m=\u001b[0m \u001b[0mnp\u001b[0m\u001b[1;33m.\u001b[0m\u001b[0munique\u001b[0m\u001b[1;33m(\u001b[0m\u001b[0mlengths\u001b[0m\u001b[1;33m)\u001b[0m\u001b[1;33m\u001b[0m\u001b[1;33m\u001b[0m\u001b[0m\n\u001b[0;32m    318\u001b[0m     \u001b[1;32mif\u001b[0m \u001b[0mlen\u001b[0m\u001b[1;33m(\u001b[0m\u001b[0muniques\u001b[0m\u001b[1;33m)\u001b[0m \u001b[1;33m>\u001b[0m \u001b[1;36m1\u001b[0m\u001b[1;33m:\u001b[0m\u001b[1;33m\u001b[0m\u001b[1;33m\u001b[0m\u001b[0m\n",
      "\u001b[1;32mc:\\users\\mahmoud sami\\appdata\\local\\programs\\python\\python39\\lib\\site-packages\\sklearn\\utils\\validation.py\u001b[0m in \u001b[0;36m<listcomp>\u001b[1;34m(.0)\u001b[0m\n\u001b[0;32m    314\u001b[0m     \"\"\"\n\u001b[0;32m    315\u001b[0m \u001b[1;33m\u001b[0m\u001b[0m\n\u001b[1;32m--> 316\u001b[1;33m     \u001b[0mlengths\u001b[0m \u001b[1;33m=\u001b[0m \u001b[1;33m[\u001b[0m\u001b[0m_num_samples\u001b[0m\u001b[1;33m(\u001b[0m\u001b[0mX\u001b[0m\u001b[1;33m)\u001b[0m \u001b[1;32mfor\u001b[0m \u001b[0mX\u001b[0m \u001b[1;32min\u001b[0m \u001b[0marrays\u001b[0m \u001b[1;32mif\u001b[0m \u001b[0mX\u001b[0m \u001b[1;32mis\u001b[0m \u001b[1;32mnot\u001b[0m \u001b[1;32mNone\u001b[0m\u001b[1;33m]\u001b[0m\u001b[1;33m\u001b[0m\u001b[1;33m\u001b[0m\u001b[0m\n\u001b[0m\u001b[0;32m    317\u001b[0m     \u001b[0muniques\u001b[0m \u001b[1;33m=\u001b[0m \u001b[0mnp\u001b[0m\u001b[1;33m.\u001b[0m\u001b[0munique\u001b[0m\u001b[1;33m(\u001b[0m\u001b[0mlengths\u001b[0m\u001b[1;33m)\u001b[0m\u001b[1;33m\u001b[0m\u001b[1;33m\u001b[0m\u001b[0m\n\u001b[0;32m    318\u001b[0m     \u001b[1;32mif\u001b[0m \u001b[0mlen\u001b[0m\u001b[1;33m(\u001b[0m\u001b[0muniques\u001b[0m\u001b[1;33m)\u001b[0m \u001b[1;33m>\u001b[0m \u001b[1;36m1\u001b[0m\u001b[1;33m:\u001b[0m\u001b[1;33m\u001b[0m\u001b[1;33m\u001b[0m\u001b[0m\n",
      "\u001b[1;32mc:\\users\\mahmoud sami\\appdata\\local\\programs\\python\\python39\\lib\\site-packages\\sklearn\\utils\\validation.py\u001b[0m in \u001b[0;36m_num_samples\u001b[1;34m(x)\u001b[0m\n\u001b[0;32m    247\u001b[0m     \u001b[1;32mif\u001b[0m \u001b[0mhasattr\u001b[0m\u001b[1;33m(\u001b[0m\u001b[0mx\u001b[0m\u001b[1;33m,\u001b[0m \u001b[1;34m'fit'\u001b[0m\u001b[1;33m)\u001b[0m \u001b[1;32mand\u001b[0m \u001b[0mcallable\u001b[0m\u001b[1;33m(\u001b[0m\u001b[0mx\u001b[0m\u001b[1;33m.\u001b[0m\u001b[0mfit\u001b[0m\u001b[1;33m)\u001b[0m\u001b[1;33m:\u001b[0m\u001b[1;33m\u001b[0m\u001b[1;33m\u001b[0m\u001b[0m\n\u001b[0;32m    248\u001b[0m         \u001b[1;31m# Don't get num_samples from an ensembles length!\u001b[0m\u001b[1;33m\u001b[0m\u001b[1;33m\u001b[0m\u001b[1;33m\u001b[0m\u001b[0m\n\u001b[1;32m--> 249\u001b[1;33m         \u001b[1;32mraise\u001b[0m \u001b[0mTypeError\u001b[0m\u001b[1;33m(\u001b[0m\u001b[0mmessage\u001b[0m\u001b[1;33m)\u001b[0m\u001b[1;33m\u001b[0m\u001b[1;33m\u001b[0m\u001b[0m\n\u001b[0m\u001b[0;32m    250\u001b[0m \u001b[1;33m\u001b[0m\u001b[0m\n\u001b[0;32m    251\u001b[0m     \u001b[1;32mif\u001b[0m \u001b[1;32mnot\u001b[0m \u001b[0mhasattr\u001b[0m\u001b[1;33m(\u001b[0m\u001b[0mx\u001b[0m\u001b[1;33m,\u001b[0m \u001b[1;34m'__len__'\u001b[0m\u001b[1;33m)\u001b[0m \u001b[1;32mand\u001b[0m \u001b[1;32mnot\u001b[0m \u001b[0mhasattr\u001b[0m\u001b[1;33m(\u001b[0m\u001b[0mx\u001b[0m\u001b[1;33m,\u001b[0m \u001b[1;34m'shape'\u001b[0m\u001b[1;33m)\u001b[0m\u001b[1;33m:\u001b[0m\u001b[1;33m\u001b[0m\u001b[1;33m\u001b[0m\u001b[0m\n",
      "\u001b[1;31mTypeError\u001b[0m: Expected sequence or array-like, got <class 'sklearn.tree._classes.DecisionTreeClassifier'>"
     ]
    }
   ],
   "source": [
    "#Just for testinggggggggggggggggggggggggggggggggggggggggggggggggggggggg\n",
    "\n",
    "mLr1_probabilities = mLr1.predict_proba(X)[:,1]\n",
    "mLr2_probabilities = mLr2.predict_proba(X)[:,1]\n",
    "mLr3_probabilities = mLr3.predict_proba(X)[:,1]\n",
    "\n",
    "mLr1_probabilities = np.transpose(mLr1_probabilities )\n",
    "print( mLr1_probabilities.size )\n",
    "class_probabilities = np.array([mLr1_probabilities,mLr2_probabilities,mLr3_probabilities])\n",
    "\n",
    "cls_prop = np.vstack(  (mLr1_probabilities,mLr2_probabilities,mLr3_probabilities ))\n",
    "\n",
    "print( cls_prop )\n",
    "#yPargmax=np.argmin(class_probabilities, axis=0)\n",
    "yPargmax=tree.DecisionTreeClassifier().fit(X, yLr1)\n",
    "mDt1=tree.DecisionTreeClassifier().fit(X, yLr2)\n",
    "mDt1=tree.DecisionTreeClassifier().fit(X, yLr3)\n",
    "\n",
    "\n",
    "print( class_probabilities.size  )\n",
    "print (yPargmax)\n",
    "print (y)\n",
    "\n",
    "# Build CONFUSION Matrix\n",
    "cm1=confusion_matrix( y , yPargmax ) \n",
    "print(cm1)\n",
    " \n",
    "# classification report for precision, recall f1-score and accuracy\n",
    "matrix1 = classification_report(y,yPargmax)\n",
    "print('Classification report : \\n',matrix1)\n",
    "\n",
    "disp = ConfusionMatrixDisplay(confusion_matrix=cm1)\n",
    "disp.plot()\n",
    "\n",
    "# Compute Accuracy\n",
    "print('Accuracy:', accuracy_score(y,yPargmax))\n",
    "print('F1:', f1_score(y,yPargmax, average='micro'))\n",
    "\n",
    "\n",
    "#Plot prediction points\n",
    "w_cValues= y==yPargmax\n",
    "print(w_cValues)\n"
   ]
  }
 ],
 "metadata": {
  "colab": {
   "collapsed_sections": [],
   "name": "Untitled13 (1).ipynb",
   "provenance": []
  },
  "kernelspec": {
   "display_name": "Python 3",
   "language": "python",
   "name": "python3"
  },
  "language_info": {
   "codemirror_mode": {
    "name": "ipython",
    "version": 3
   },
   "file_extension": ".py",
   "mimetype": "text/x-python",
   "name": "python",
   "nbconvert_exporter": "python",
   "pygments_lexer": "ipython3",
   "version": "3.9.5"
  }
 },
 "nbformat": 4,
 "nbformat_minor": 4
}
